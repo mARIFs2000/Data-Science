{
 "cells": [
  {
   "cell_type": "code",
   "execution_count": 3,
   "id": "e74a7c32-aded-44a9-9606-f2d23a5704d6",
   "metadata": {
    "scrolled": true
   },
   "outputs": [
    {
     "name": "stdout",
     "output_type": "stream",
     "text": [
      "32\n"
     ]
    }
   ],
   "source": [
    "#dot\n",
    "import numpy as mas\n",
    "array1 = mas.array([6,5,4])\n",
    "array2 = mas.array([3,2,1])\n",
    "resulting = mas.dot(array1,array2)\n",
    "print (resulting)"
   ]
  },
  {
   "cell_type": "code",
   "execution_count": 13,
   "id": "300599c6-8fec-49a4-8bf0-196c16971b53",
   "metadata": {},
   "outputs": [
    {
     "data": {
      "text/plain": [
       "array([[14, 30],\n",
       "       [38, 86]])"
      ]
     },
     "execution_count": 13,
     "metadata": {},
     "output_type": "execute_result"
    }
   ],
   "source": [
    "#inner\n",
    "import numpy as mas\n",
    "array1 = mas.array([[1,3],\n",
    "                    [5,7]])\n",
    "array2 = mas.array([[2,4],\n",
    "                    [6,8]])\n",
    "resulting = mas.inner(array1,array2)\n",
    "(resulting)"
   ]
  },
  {
   "cell_type": "code",
   "execution_count": 17,
   "id": "f8dcf86a-a76e-409e-aac1-83ed8d81930c",
   "metadata": {},
   "outputs": [
    {
     "data": {
      "text/plain": [
       "array([[72, 54, 36],\n",
       "       [56, 42, 28],\n",
       "       [40, 30, 20]])"
      ]
     },
     "execution_count": 17,
     "metadata": {},
     "output_type": "execute_result"
    }
   ],
   "source": [
    "#outer\n",
    "import numpy as rr\n",
    "array1 = rr.array([9,7,5])\n",
    "array2 = rr.array([8,6,4])\n",
    "resulting = rr.outer(array1,array2)\n",
    "resulting"
   ]
  },
  {
   "cell_type": "code",
   "execution_count": 19,
   "id": "5dd7b573-853a-490c-9877-b186a69eff9b",
   "metadata": {},
   "outputs": [
    {
     "name": "stdout",
     "output_type": "stream",
     "text": [
      "-8.000000000000002\n"
     ]
    }
   ],
   "source": [
    "#det\n",
    "import numpy as np\n",
    "array1 = np.array([[2,4],\n",
    "                  [6,8]])\n",
    "resulting = np.linalg.det(array1)\n",
    "print (resulting)"
   ]
  },
  {
   "cell_type": "code",
   "execution_count": 25,
   "id": "d742c731-40c2-4511-ba7f-a2bccb88fe86",
   "metadata": {},
   "outputs": [
    {
     "data": {
      "text/plain": [
       "array([-0.25,  0.75])"
      ]
     },
     "execution_count": 25,
     "metadata": {},
     "output_type": "execute_result"
    }
   ],
   "source": [
    "#solve\n",
    "import numpy as wu\n",
    "B = wu.array([[9,7],\n",
    "              [5,3]])\n",
    "T = wu.array([3,1])\n",
    "Z = wu.linalg.solve(B,T)\n",
    "Z"
   ]
  },
  {
   "cell_type": "code",
   "execution_count": 27,
   "id": "3cfcddcc-6778-4067-bca2-49356b810472",
   "metadata": {},
   "outputs": [
    {
     "ename": "SyntaxError",
     "evalue": "closing parenthesis ']' does not match opening parenthesis '{' (4272945124.py, line 4)",
     "output_type": "error",
     "traceback": [
      "\u001b[1;36m  Cell \u001b[1;32mIn[27], line 4\u001b[1;36m\u001b[0m\n\u001b[1;33m    {2,4]])\u001b[0m\n\u001b[1;37m        ^\u001b[0m\n\u001b[1;31mSyntaxError\u001b[0m\u001b[1;31m:\u001b[0m closing parenthesis ']' does not match opening parenthesis '{'\n"
     ]
    }
   ],
   "source": [
    "#inverse\n",
    "import numpy as hx\n",
    "array1 = hx.array([[1,3],\n",
    "                   {2,4]])\n",
    "resulting = hx.linalg.inv(array1)\n",
    "resulting"
   ]
  }
 ],
 "metadata": {
  "kernelspec": {
   "display_name": "Python [conda env:base] *",
   "language": "python",
   "name": "conda-base-py"
  },
  "language_info": {
   "codemirror_mode": {
    "name": "ipython",
    "version": 3
   },
   "file_extension": ".py",
   "mimetype": "text/x-python",
   "name": "python",
   "nbconvert_exporter": "python",
   "pygments_lexer": "ipython3",
   "version": "3.12.7"
  }
 },
 "nbformat": 4,
 "nbformat_minor": 5
}
