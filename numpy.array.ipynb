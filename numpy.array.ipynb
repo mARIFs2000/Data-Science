{
 "cells": [
  {
   "cell_type": "code",
   "execution_count": 9,
   "id": "b1280266-feb1-4c04-805b-15989c8d41aa",
   "metadata": {},
   "outputs": [
    {
     "name": "stdout",
     "output_type": "stream",
     "text": [
      "[1 2 3 4 5]\n"
     ]
    }
   ],
   "source": [
    "import numpy as np\n",
    "arr=np.array([1,2,3,4,5])\n",
    "print(arr)"
   ]
  },
  {
   "cell_type": "code",
   "execution_count": 13,
   "id": "c87f9822-fce6-4e2b-aedc-8edf1633aa4c",
   "metadata": {},
   "outputs": [
    {
     "name": "stdout",
     "output_type": "stream",
     "text": [
      "[1 2 3 4 5 6]\n"
     ]
    }
   ],
   "source": [
    "import numpy \n",
    "arr = numpy.array([1,2,3,4,5,6])\n",
    "print (arr)"
   ]
  },
  {
   "cell_type": "code",
   "execution_count": 15,
   "id": "bf3d08e2-b9ba-475a-a4fb-6dfdbd56f66a",
   "metadata": {},
   "outputs": [
    {
     "name": "stdout",
     "output_type": "stream",
     "text": [
      "1.26.4\n"
     ]
    }
   ],
   "source": [
    "import numpy \n",
    "print (numpy.__version__)"
   ]
  },
  {
   "cell_type": "code",
   "execution_count": 17,
   "id": "95620bcb-8434-4ebf-a437-511e0ec56073",
   "metadata": {},
   "outputs": [
    {
     "name": "stdout",
     "output_type": "stream",
     "text": [
      "[1 2 3 4 5 6]\n",
      "<class 'numpy.ndarray'>\n"
     ]
    }
   ],
   "source": [
    "import numpy as np\n",
    "arr = np.array([1,2,3,4,5,6])\n",
    "print (arr)\n",
    "print (type(arr))"
   ]
  },
  {
   "cell_type": "code",
   "execution_count": 19,
   "id": "6ccc3222-a3e4-43a7-a6fe-16f1de5e3c83",
   "metadata": {},
   "outputs": [
    {
     "name": "stdout",
     "output_type": "stream",
     "text": [
      "64\n"
     ]
    }
   ],
   "source": [
    "import numpy as npy\n",
    "ashish = npy.array(64)\n",
    "print (ashish)\n"
   ]
  },
  {
   "cell_type": "code",
   "execution_count": 31,
   "id": "a2cec89e-05dd-4fcf-92e3-3e4eef584883",
   "metadata": {},
   "outputs": [
    {
     "name": "stdout",
     "output_type": "stream",
     "text": [
      "[[1 2 3]\n",
      " [4 5 6]]\n"
     ]
    }
   ],
   "source": [
    "import numpy as nmy\n",
    "arif = nmy.array([[1,2,3],[4,5,6]])\n",
    "print (arif)"
   ]
  },
  {
   "cell_type": "code",
   "execution_count": 33,
   "id": "bceff800-3516-4f07-b830-6dd0fc4d4c24",
   "metadata": {},
   "outputs": [
    {
     "name": "stdout",
     "output_type": "stream",
     "text": [
      "[[[ 1  2  3]\n",
      "  [ 4  5  6]]\n",
      "\n",
      " [[ 7  8  9]\n",
      "  [10 11 12]]]\n"
     ]
    }
   ],
   "source": [
    "import numpy as mas\n",
    "anila = mas.array([[[1,2,3],[4,5,6]],[[7,8,9],[10,11,12]]])\n",
    "print (anila)"
   ]
  },
  {
   "cell_type": "code",
   "execution_count": 38,
   "id": "a2b9b48f-58f8-4398-8d7e-703100616545",
   "metadata": {},
   "outputs": [
    {
     "name": "stdout",
     "output_type": "stream",
     "text": [
      "0\n",
      "1\n",
      "2\n",
      "3\n"
     ]
    }
   ],
   "source": [
    "import numpy as ss\n",
    "a = ss.array(32)\n",
    "n = ss.array([1,2,3,4,5])\n",
    "j = ss.array([[1,2,3],[4,5,6]])\n",
    "l = ss.array([[[1,2,3],[4,5,6]],[[7,8,9],[10,11,12]]])\n",
    "print (a.ndim)\n",
    "print (n.ndim)\n",
    "print (j.ndim)\n",
    "print (l.ndim)"
   ]
  },
  {
   "cell_type": "code",
   "execution_count": 52,
   "id": "4b9a090f-aff1-4047-8d68-c4e6103acdc1",
   "metadata": {},
   "outputs": [
    {
     "name": "stdout",
     "output_type": "stream",
     "text": [
      "[[[[1 2 3 4 5]]]]\n",
      "no of dimensions : 4\n"
     ]
    }
   ],
   "source": [
    "import numpy as rrr\n",
    "rehan = rrr.array ([1,2,3,4,5], ndmin = 4)\n",
    "print (rehan)\n",
    "print ('no of dimensions :', rehan.ndim)"
   ]
  },
  {
   "cell_type": "code",
   "execution_count": null,
   "id": "b1237ee4-7173-489b-aaf7-ab43839554bb",
   "metadata": {},
   "outputs": [],
   "source": []
  }
 ],
 "metadata": {
  "kernelspec": {
   "display_name": "Python [conda env:base] *",
   "language": "python",
   "name": "conda-base-py"
  },
  "language_info": {
   "codemirror_mode": {
    "name": "ipython",
    "version": 3
   },
   "file_extension": ".py",
   "mimetype": "text/x-python",
   "name": "python",
   "nbconvert_exporter": "python",
   "pygments_lexer": "ipython3",
   "version": "3.12.7"
  }
 },
 "nbformat": 4,
 "nbformat_minor": 5
}
