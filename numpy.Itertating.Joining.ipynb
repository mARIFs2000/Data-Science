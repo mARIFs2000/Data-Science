{
 "cells": [
  {
   "cell_type": "code",
   "execution_count": 8,
   "id": "f36c9ccb-80fd-4f05-ae1c-a09269ec228d",
   "metadata": {},
   "outputs": [
    {
     "name": "stdout",
     "output_type": "stream",
     "text": [
      "7\n",
      "8\n",
      "9\n"
     ]
    }
   ],
   "source": [
    "import numpy as np\n",
    "water = np.array([7,8,9])\n",
    "for i in water:\n",
    "    print (i)"
   ]
  },
  {
   "cell_type": "code",
   "execution_count": 20,
   "id": "87ee6098-6f26-4089-91ac-8ef00eab9c94",
   "metadata": {},
   "outputs": [
    {
     "name": "stdout",
     "output_type": "stream",
     "text": [
      "6\n",
      "5\n",
      "4\n",
      "3\n",
      "2\n",
      "1\n"
     ]
    }
   ],
   "source": [
    "import numpy as np\n",
    "aqua = np.array([[6,5,4],[3,2,1]])\n",
    "for e in aqua:\n",
    "   for c in e:\n",
    "    print (c)"
   ]
  },
  {
   "cell_type": "code",
   "execution_count": 30,
   "id": "f37aaefd-ee4e-4834-abce-b36d473d94e0",
   "metadata": {},
   "outputs": [
    {
     "name": "stdout",
     "output_type": "stream",
     "text": [
      "9\n",
      "8\n",
      "7\n",
      "6\n",
      "5\n",
      "4\n",
      "3\n",
      "2\n",
      "1\n",
      "11\n",
      "12\n",
      "13\n"
     ]
    }
   ],
   "source": [
    "import numpy as np\n",
    "aqua = np.array([[[9,8,7],[6,5,4]],[[3,2,1],[11,12,13]]])\n",
    "for x in aqua:\n",
    "    for u in x:\n",
    "        for z in u:\n",
    "            print (z)"
   ]
  },
  {
   "cell_type": "code",
   "execution_count": 34,
   "id": "6470ea20-eaba-4792-a6d7-4eb007efec6d",
   "metadata": {},
   "outputs": [
    {
     "name": "stdout",
     "output_type": "stream",
     "text": [
      "9\n",
      "8\n",
      "7\n",
      "6\n",
      "5\n",
      "4\n",
      "3\n",
      "2\n"
     ]
    }
   ],
   "source": [
    "import numpy as np\n",
    "yours = np.array([[[9,8],[7,6]],[[5,4],[3,2]]])\n",
    "for r in np.nditer (yours):\n",
    "    print (r)"
   ]
  },
  {
   "cell_type": "code",
   "execution_count": 9,
   "id": "d158aef7-019e-4645-943e-fb82907054d1",
   "metadata": {},
   "outputs": [
    {
     "name": "stdout",
     "output_type": "stream",
     "text": [
      "[9 8 7 6 5 4]\n"
     ]
    }
   ],
   "source": [
    "#Joining\n",
    "import numpy as np\n",
    "tool1 = np.array ([9,8,7])\n",
    "tool2 = np.array ([6,5,4])\n",
    "tool = np.concatenate((tool1,tool2))\n",
    "print (tool)"
   ]
  },
  {
   "cell_type": "code",
   "execution_count": 13,
   "id": "030ae947-3135-482b-a2d5-115b4d5a6767",
   "metadata": {},
   "outputs": [
    {
     "name": "stdout",
     "output_type": "stream",
     "text": [
      "[[2 4 6 8]\n",
      " [1 3 5 7]]\n"
     ]
    }
   ],
   "source": [
    "import numpy as np\n",
    "box1 = np.array ([[2,4],[1,3]])\n",
    "box2 = np.array ([[6,8],[5,7]])\n",
    "box = np.concatenate((box1,box2), axis=1)\n",
    "print (box)"
   ]
  },
  {
   "cell_type": "code",
   "execution_count": 21,
   "id": "53d5adf1-ee34-496d-9e5b-49b137477076",
   "metadata": {},
   "outputs": [
    {
     "name": "stdout",
     "output_type": "stream",
     "text": [
      "[[2 1]\n",
      " [4 3]\n",
      " [6 5]]\n"
     ]
    }
   ],
   "source": [
    "import numpy as np\n",
    "tooth1 = np.array ([2,4,6])\n",
    "tooth2 = np.array ([1,3,5])\n",
    "tooth = np.stack ((tooth1,tooth2), axis=1)\n",
    "print (tooth)"
   ]
  },
  {
   "cell_type": "code",
   "execution_count": 25,
   "id": "e9abfe85-7989-4cea-bcde-d46851d94624",
   "metadata": {},
   "outputs": [
    {
     "name": "stdout",
     "output_type": "stream",
     "text": [
      "[6 5 4 3 2 1]\n"
     ]
    }
   ],
   "source": [
    "import numpy as np\n",
    "brush1 = np.array ([6,5,4])\n",
    "brush2 = np.array ([3,2,1])\n",
    "brush = np.hstack ((brush1,brush2))\n",
    "print (brush)"
   ]
  },
  {
   "cell_type": "code",
   "execution_count": 31,
   "id": "80b80040-de0b-407c-bd27-2cd5f0d203e5",
   "metadata": {},
   "outputs": [
    {
     "name": "stdout",
     "output_type": "stream",
     "text": [
      "[[ 1  3  5]\n",
      " [ 7  9 11]]\n"
     ]
    }
   ],
   "source": [
    "import numpy as np \n",
    "road1 = np.array ([1,3,5])\n",
    "road2 = np.array ([7,9,11])\n",
    "road = np.vstack((road1,road2))\n",
    "print (road)"
   ]
  },
  {
   "cell_type": "code",
   "execution_count": 35,
   "id": "648ef0c0-6031-4e57-9d3c-6e7fda04c304",
   "metadata": {},
   "outputs": [
    {
     "name": "stdout",
     "output_type": "stream",
     "text": [
      "[[[ 2  4]\n",
      "  [ 6 12]\n",
      "  [24 48]]]\n"
     ]
    }
   ],
   "source": [
    "import numpy as np\n",
    "house1 = np.array ([2,6,24])\n",
    "house2 = np.array ([4,12,48])\n",
    "house = np.dstack((house1,house2))\n",
    "print (house)"
   ]
  },
  {
   "cell_type": "code",
   "execution_count": null,
   "id": "62a6b5cd-8107-445e-bf37-d2a254624c45",
   "metadata": {},
   "outputs": [],
   "source": []
  }
 ],
 "metadata": {
  "kernelspec": {
   "display_name": "Python [conda env:base] *",
   "language": "python",
   "name": "conda-base-py"
  },
  "language_info": {
   "codemirror_mode": {
    "name": "ipython",
    "version": 3
   },
   "file_extension": ".py",
   "mimetype": "text/x-python",
   "name": "python",
   "nbconvert_exporter": "python",
   "pygments_lexer": "ipython3",
   "version": "3.12.7"
  }
 },
 "nbformat": 4,
 "nbformat_minor": 5
}
