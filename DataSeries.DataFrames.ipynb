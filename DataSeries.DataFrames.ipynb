{
 "cells": [
  {
   "cell_type": "code",
   "execution_count": 5,
   "id": "fdeac3e0-1f7a-43b9-a4d3-565dbc2dd32d",
   "metadata": {},
   "outputs": [
    {
     "data": {
      "text/plain": [
       "0     a\n",
       "1     n\n",
       "2     i\n",
       "3     l\n",
       "4     a\n",
       "5    28\n",
       "dtype: object"
      ]
     },
     "execution_count": 5,
     "metadata": {},
     "output_type": "execute_result"
    }
   ],
   "source": [
    "import pandas as dw \n",
    "Daddy = ['a','n','i','l','a',28]\n",
    "Wilson = dw.Series (Daddy)\n",
    "Wilson"
   ]
  },
  {
   "cell_type": "code",
   "execution_count": 13,
   "id": "59cdab57-6663-4f98-a1f6-f21e4ad5f502",
   "metadata": {},
   "outputs": [
    {
     "name": "stdout",
     "output_type": "stream",
     "text": [
      "q    2\n",
      "w    4\n",
      "e    6\n",
      "dtype: int64\n"
     ]
    }
   ],
   "source": [
    "import pandas as jd\n",
    "Jake = [2,4,6]\n",
    "Daniels =jd.Series(Jake, index = ['q','w','e'])\n",
    "print (Daniels)"
   ]
  },
  {
   "cell_type": "code",
   "execution_count": 21,
   "id": "ac24218c-f7cd-4604-9fe0-b31260873517",
   "metadata": {},
   "outputs": [
    {
     "ename": "SyntaxError",
     "evalue": "invalid syntax. Perhaps you forgot a comma? (419163316.py, line 3)",
     "output_type": "error",
     "traceback": [
      "\u001b[1;36m  Cell \u001b[1;32mIn[21], line 3\u001b[1;36m\u001b[0m\n\u001b[1;33m    \"calories\":[720,630,540]\u001b[0m\n\u001b[1;37m               ^\u001b[0m\n\u001b[1;31mSyntaxError\u001b[0m\u001b[1;31m:\u001b[0m invalid syntax. Perhaps you forgot a comma?\n"
     ]
    }
   ],
   "source": [
    "import pandas as pd \n",
    "data = {\n",
    "    \"calories\":[720,630,540]\n",
    "    \"duration\":[30,40,50]\n",
    "}\n",
    "corona = pd.DataFrame(data)\n",
    "print (corona)"
   ]
  },
  {
   "cell_type": "code",
   "execution_count": null,
   "id": "e764f7bb-6a0a-4b66-a480-28aee5be20e7",
   "metadata": {},
   "outputs": [],
   "source": []
  }
 ],
 "metadata": {
  "kernelspec": {
   "display_name": "Python [conda env:base] *",
   "language": "python",
   "name": "conda-base-py"
  },
  "language_info": {
   "codemirror_mode": {
    "name": "ipython",
    "version": 3
   },
   "file_extension": ".py",
   "mimetype": "text/x-python",
   "name": "python",
   "nbconvert_exporter": "python",
   "pygments_lexer": "ipython3",
   "version": "3.12.7"
  }
 },
 "nbformat": 4,
 "nbformat_minor": 5
}
