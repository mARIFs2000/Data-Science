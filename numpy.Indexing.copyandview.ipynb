{
 "cells": [
  {
   "cell_type": "code",
   "execution_count": 1,
   "id": "55a70452-8ebe-47f8-afc3-efe69800ef82",
   "metadata": {},
   "outputs": [
    {
     "name": "stdout",
     "output_type": "stream",
     "text": [
      "6\n"
     ]
    }
   ],
   "source": [
    "import numpy as mas\n",
    "hayaan = mas.array ([2,4,6,8,10])\n",
    "print(hayaan[2])"
   ]
  },
  {
   "cell_type": "code",
   "execution_count": 3,
   "id": "fa83e4cb-7fb1-461a-84c3-eadd9c4a6ce4",
   "metadata": {},
   "outputs": [
    {
     "name": "stdout",
     "output_type": "stream",
     "text": [
      "18\n"
     ]
    }
   ],
   "source": [
    "import numpy as mas\n",
    "hayaan = mas.array([1,3,5,7,9,11])\n",
    "print (hayaan[3]+ hayaan[5])"
   ]
  },
  {
   "cell_type": "code",
   "execution_count": 15,
   "id": "535c013a-ec1b-4820-9d46-4b2877d2acc8",
   "metadata": {},
   "outputs": [
    {
     "name": "stdout",
     "output_type": "stream",
     "text": [
      "8\n"
     ]
    }
   ],
   "source": [
    "import numpy as mas\n",
    "rehan = mas.array([[1,9,2,8,3,7],[4,6,5,10,12,11]])\n",
    "print (rehan[0,-3])"
   ]
  },
  {
   "cell_type": "code",
   "execution_count": 23,
   "id": "2275ef57-b373-4561-8c71-b34928b85dff",
   "metadata": {},
   "outputs": [
    {
     "name": "stdout",
     "output_type": "stream",
     "text": [
      "4\n"
     ]
    }
   ],
   "source": [
    "import numpy as you\n",
    "rehan = you.array([[[9,8,7,6],[5,4,3,2]],[[1,2,3,4],[5,6,7,8]]])\n",
    "print (rehan[1,0,-1])"
   ]
  },
  {
   "cell_type": "code",
   "execution_count": 5,
   "id": "4913be6b-1077-44e6-960a-d1c1bafb5827",
   "metadata": {},
   "outputs": [
    {
     "name": "stdout",
     "output_type": "stream",
     "text": [
      "[42 12 13 14 15 16]\n",
      "[11 12 13 14 15 16]\n"
     ]
    }
   ],
   "source": [
    "import numpy as mas\n",
    "fathima = mas.array([11,12,13,14,15,16])\n",
    "c = fathima.copy()\n",
    "fathima[0] = 42\n",
    "print (fathima)\n",
    "print (c) "
   ]
  },
  {
   "cell_type": "code",
   "execution_count": 15,
   "id": "15863445-dc42-4f9a-a31f-dcafc1082d10",
   "metadata": {},
   "outputs": [
    {
     "name": "stdout",
     "output_type": "stream",
     "text": [
      "[21 22 46 24 25 26]\n",
      "[21 22 46 24 25 26]\n"
     ]
    }
   ],
   "source": [
    "import numpy as fn\n",
    "farsana = fn.array([21,22,23,24,25,26])\n",
    "nawshad = farsana.view()\n",
    "farsana [2] = 46\n",
    "print (farsana)\n",
    "print (nawshad)"
   ]
  },
  {
   "cell_type": "code",
   "execution_count": 17,
   "id": "ec0d477d-37f8-4b84-9512-cf0867e13a6e",
   "metadata": {},
   "outputs": [
    {
     "name": "stdout",
     "output_type": "stream",
     "text": [
      "None\n",
      "[99 88 77 66 55 44]\n"
     ]
    }
   ],
   "source": [
    "#not in syllabus\n",
    "import numpy as sn\n",
    "sabeena = sn.array ([99,88,77,66,55,44])\n",
    "nawshad = sabeena.copy()\n",
    "farsana = sabeena.view()\n",
    "print (nawshad.base)\n",
    "print (farsana.base)"
   ]
  }
 ],
 "metadata": {
  "kernelspec": {
   "display_name": "Python [conda env:base] *",
   "language": "python",
   "name": "conda-base-py"
  },
  "language_info": {
   "codemirror_mode": {
    "name": "ipython",
    "version": 3
   },
   "file_extension": ".py",
   "mimetype": "text/x-python",
   "name": "python",
   "nbconvert_exporter": "python",
   "pygments_lexer": "ipython3",
   "version": "3.12.7"
  }
 },
 "nbformat": 4,
 "nbformat_minor": 5
}
