{
 "cells": [
  {
   "cell_type": "code",
   "execution_count": 7,
   "id": "2af417d7-3930-41cd-b0d7-87ab180e7b10",
   "metadata": {},
   "outputs": [
    {
     "name": "stdout",
     "output_type": "stream",
     "text": [
      "         Date Product_Category   Price  Discount Customer_Segment  \\\n",
      "0  01-01-2023           Sports  932.80     35.82       Occasional   \n",
      "1  02-01-2023             Toys  569.48      3.60          Premium   \n",
      "2  03-01-2023       Home Decor  699.68      3.56          Premium   \n",
      "3  04-01-2023             Toys  923.27      0.61          Premium   \n",
      "4  05-01-2023             Toys  710.17     47.83          Premium   \n",
      "\n",
      "   Marketing_Spend  Units_Sold  \n",
      "0          6780.38          32  \n",
      "1          6807.56          16  \n",
      "2          3793.91          27  \n",
      "3          9422.75          29  \n",
      "4          1756.83          17  \n"
     ]
    }
   ],
   "source": [
    "import pandas as pd\n",
    "df = pd.read_csv(\"goat.csv\")\n",
    "print(df.head())"
   ]
  },
  {
   "cell_type": "code",
   "execution_count": 11,
   "id": "833a0e35-a87c-4a72-980a-fdccb0378e43",
   "metadata": {},
   "outputs": [
    {
     "name": "stdout",
     "output_type": "stream",
     "text": [
      "                     track_id                       track_name  \\\n",
      "62312  3eHDwMQYPEziy2DWRBNoLv             Sani - G.O.A.T Remix   \n",
      "62313  5hHtCqkNv5eo99OrEFFcgS                 Life of Bachelor   \n",
      "62314  08foF9YHgKmIgOy3xMWRZy                          Yo Baby   \n",
      "62315  2wLFbVlQGKJSd9lwzwL47F                Fast Fast Vadiley   \n",
      "62316  5OYxwYeFfumMTAoAdVeet3  Moonu Moonu Moonu (From \"3:33\")   \n",
      "\n",
      "                                             artist_name  year  popularity  \\\n",
      "62312  Arvind Raj, Sheezay, Music Kitchen, FSPROD Vin...  2021          30   \n",
      "62313  A H Kaashif, Navakkarai Naveen Prabanjam, Asal...  2021          30   \n",
      "62314         Rakesh Ambigapathy, Asal Kolaar, MC Vickey  2021          18   \n",
      "62315          Asal Kolaar, Priyadarshan Balasubramanian  2021           1   \n",
      "62316  Harshavardhan Rameshwar, G. V. Prakash, Dharma...  2021           1   \n",
      "\n",
      "                                             artwork_url  \\\n",
      "62312  https://i.scdn.co/image/ab67616d0000b273819d23...   \n",
      "62313  https://i.scdn.co/image/ab67616d0000b2736cd651...   \n",
      "62314  https://i.scdn.co/image/ab67616d0000b27300da25...   \n",
      "62315  https://i.scdn.co/image/ab67616d0000b273e051e1...   \n",
      "62316  https://i.scdn.co/image/ab67616d0000b273efd671...   \n",
      "\n",
      "                                          album_name  acousticness  \\\n",
      "62312                           Sani (G.O.A.T Remix)       0.08490   \n",
      "62313  Bachelor (Original Motion Picture Soundtrack)       0.07880   \n",
      "62314                                        Yo Baby       0.00918   \n",
      "62315                                Arjuna Phalguna       0.10100   \n",
      "62316                Moonu Moonu Moonu (From \"3:33\")       0.18600   \n",
      "\n",
      "       danceability  duration_ms  ...  key  liveness  loudness  mode  \\\n",
      "62312         0.877     359718.0  ...  7.0     0.110   -11.458   1.0   \n",
      "62313         0.833     154364.0  ...  8.0     0.267    -5.061   1.0   \n",
      "62314         0.842     234000.0  ...  7.0     0.079    -5.855   1.0   \n",
      "62315         0.682     180807.0  ...  1.0     0.320    -6.061   1.0   \n",
      "62316         0.817     202667.0  ...  6.0     0.378    -7.353   0.0   \n",
      "\n",
      "       speechiness    tempo  time_signature  valence  \\\n",
      "62312       0.3530  100.024             4.0    0.504   \n",
      "62313       0.0813  110.041             4.0    0.524   \n",
      "62314       0.1370  122.038             4.0    0.669   \n",
      "62315       0.2850   74.993             4.0    0.439   \n",
      "62316       0.1170   89.975             4.0    0.837   \n",
      "\n",
      "                                               track_url  language  \n",
      "62312  https://open.spotify.com/track/3eHDwMQYPEziy2D...     Tamil  \n",
      "62313  https://open.spotify.com/track/5hHtCqkNv5eo99O...     Tamil  \n",
      "62314  https://open.spotify.com/track/08foF9YHgKmIgOy...     Tamil  \n",
      "62315  https://open.spotify.com/track/2wLFbVlQGKJSd9l...     Tamil  \n",
      "62316  https://open.spotify.com/track/5OYxwYeFfumMTAo...     Tamil  \n",
      "\n",
      "[5 rows x 22 columns]\n"
     ]
    }
   ],
   "source": [
    "import pandas as pd \n",
    "df = pd.read_csv(\"spotify_tracks.csv\")\n",
    "print(df.tail())"
   ]
  },
  {
   "cell_type": "code",
   "execution_count": 15,
   "id": "ced2ab8e-b32c-41ab-b52f-31fe66b3570b",
   "metadata": {},
   "outputs": [
    {
     "name": "stdout",
     "output_type": "stream",
     "text": [
      "<class 'pandas.core.frame.DataFrame'>\n",
      "RangeIndex: 62317 entries, 0 to 62316\n",
      "Data columns (total 22 columns):\n",
      " #   Column            Non-Null Count  Dtype  \n",
      "---  ------            --------------  -----  \n",
      " 0   track_id          62317 non-null  object \n",
      " 1   track_name        62317 non-null  object \n",
      " 2   artist_name       62317 non-null  object \n",
      " 3   year              62317 non-null  int64  \n",
      " 4   popularity        62317 non-null  int64  \n",
      " 5   artwork_url       62317 non-null  object \n",
      " 6   album_name        62317 non-null  object \n",
      " 7   acousticness      62317 non-null  float64\n",
      " 8   danceability      62317 non-null  float64\n",
      " 9   duration_ms       62317 non-null  float64\n",
      " 10  energy            62317 non-null  float64\n",
      " 11  instrumentalness  62317 non-null  float64\n",
      " 12  key               62317 non-null  float64\n",
      " 13  liveness          62317 non-null  float64\n",
      " 14  loudness          62317 non-null  float64\n",
      " 15  mode              62317 non-null  float64\n",
      " 16  speechiness       62317 non-null  float64\n",
      " 17  tempo             62317 non-null  float64\n",
      " 18  time_signature    62317 non-null  float64\n",
      " 19  valence           62317 non-null  float64\n",
      " 20  track_url         62317 non-null  object \n",
      " 21  language          62317 non-null  object \n",
      "dtypes: float64(13), int64(2), object(7)\n",
      "memory usage: 10.5+ MB\n",
      "None\n"
     ]
    }
   ],
   "source": [
    "import pandas as pd\n",
    "gf = pd.read_csv('spotify_tracks.csv')\n",
    "print(gf.info())"
   ]
  },
  {
   "cell_type": "code",
   "execution_count": 17,
   "id": "d8ba0052-f933-493e-bba4-b871c30b8d9d",
   "metadata": {},
   "outputs": [
    {
     "name": "stdout",
     "output_type": "stream",
     "text": [
      "             Price     Discount  Marketing_Spend   Units_Sold\n",
      "count  1000.000000  1000.000000      1000.000000  1000.000000\n",
      "mean    505.241920    24.919750      4912.830240    29.631000\n",
      "std     289.791248    14.439951      2840.602656     7.267989\n",
      "min      14.590000     0.010000       100.300000     5.000000\n",
      "25%     243.342500    12.995000      2413.020000    24.000000\n",
      "50%     509.310000    24.965000      4837.245000    30.000000\n",
      "75%     747.592500    37.562500      7319.675000    34.000000\n",
      "max     999.420000    49.920000      9995.620000    57.000000\n"
     ]
    }
   ],
   "source": [
    "import pandas as pd\n",
    "bf = pd.read_csv(\"goat.csv\")\n",
    "print (bf.describe())"
   ]
  },
  {
   "cell_type": "code",
   "execution_count": 21,
   "id": "9284629b-3dc5-415f-bdd0-639107f8665f",
   "metadata": {},
   "outputs": [
    {
     "name": "stdout",
     "output_type": "stream",
     "text": [
      "(1000, 7)\n"
     ]
    }
   ],
   "source": [
    "#d shape \n",
    "print(bf.shape)"
   ]
  },
  {
   "cell_type": "code",
   "execution_count": 23,
   "id": "04c2a4f3-c579-435a-b0e5-e47497b5dca2",
   "metadata": {},
   "outputs": [
    {
     "name": "stdout",
     "output_type": "stream",
     "text": [
      "(62317, 22)\n"
     ]
    }
   ],
   "source": [
    "print (gf.shape)"
   ]
  },
  {
   "cell_type": "code",
   "execution_count": 27,
   "id": "43939482-5ea6-48db-b66a-f60425af3d1e",
   "metadata": {},
   "outputs": [
    {
     "data": {
      "text/plain": [
       "0      6780.38\n",
       "1      6807.56\n",
       "2      3793.91\n",
       "3      9422.75\n",
       "4      1756.83\n",
       "        ...   \n",
       "995    1890.83\n",
       "996    8011.66\n",
       "997    3408.51\n",
       "998    7335.62\n",
       "999    4258.11\n",
       "Name: Marketing_Spend, Length: 1000, dtype: float64"
      ]
     },
     "execution_count": 27,
     "metadata": {},
     "output_type": "execute_result"
    }
   ],
   "source": [
    "#selecting data\n",
    "bf['Marketing_Spend']"
   ]
  },
  {
   "cell_type": "code",
   "execution_count": 41,
   "id": "db9880f4-79f3-467a-98c1-6f66b6567a3c",
   "metadata": {},
   "outputs": [
    {
     "data": {
      "text/html": [
       "<div>\n",
       "<style scoped>\n",
       "    .dataframe tbody tr th:only-of-type {\n",
       "        vertical-align: middle;\n",
       "    }\n",
       "\n",
       "    .dataframe tbody tr th {\n",
       "        vertical-align: top;\n",
       "    }\n",
       "\n",
       "    .dataframe thead th {\n",
       "        text-align: right;\n",
       "    }\n",
       "</style>\n",
       "<table border=\"1\" class=\"dataframe\">\n",
       "  <thead>\n",
       "    <tr style=\"text-align: right;\">\n",
       "      <th></th>\n",
       "      <th>track_id</th>\n",
       "      <th>track_name</th>\n",
       "    </tr>\n",
       "  </thead>\n",
       "  <tbody>\n",
       "    <tr>\n",
       "      <th>0</th>\n",
       "      <td>2r0ROhr7pRN4MXDMT1fEmd</td>\n",
       "      <td>Leo Das Entry (From \"Leo\")</td>\n",
       "    </tr>\n",
       "    <tr>\n",
       "      <th>1</th>\n",
       "      <td>4I38e6Dg52a2o2a8i5Q5PW</td>\n",
       "      <td>AAO KILLELLE</td>\n",
       "    </tr>\n",
       "    <tr>\n",
       "      <th>2</th>\n",
       "      <td>59NoiRhnom3lTeRFaBzOev</td>\n",
       "      <td>Mayakiriye Sirikiriye - Orchestral EDM</td>\n",
       "    </tr>\n",
       "    <tr>\n",
       "      <th>3</th>\n",
       "      <td>5uUqRQd385pvLxC8JX3tXn</td>\n",
       "      <td>Scene Ah Scene Ah - Experimental EDM Mix</td>\n",
       "    </tr>\n",
       "    <tr>\n",
       "      <th>4</th>\n",
       "      <td>1KaBRg2xgNeCljmyxBH1mo</td>\n",
       "      <td>Gundellonaa X I Am A Disco Dancer - Mashup</td>\n",
       "    </tr>\n",
       "    <tr>\n",
       "      <th>...</th>\n",
       "      <td>...</td>\n",
       "      <td>...</td>\n",
       "    </tr>\n",
       "    <tr>\n",
       "      <th>62312</th>\n",
       "      <td>3eHDwMQYPEziy2DWRBNoLv</td>\n",
       "      <td>Sani - G.O.A.T Remix</td>\n",
       "    </tr>\n",
       "    <tr>\n",
       "      <th>62313</th>\n",
       "      <td>5hHtCqkNv5eo99OrEFFcgS</td>\n",
       "      <td>Life of Bachelor</td>\n",
       "    </tr>\n",
       "    <tr>\n",
       "      <th>62314</th>\n",
       "      <td>08foF9YHgKmIgOy3xMWRZy</td>\n",
       "      <td>Yo Baby</td>\n",
       "    </tr>\n",
       "    <tr>\n",
       "      <th>62315</th>\n",
       "      <td>2wLFbVlQGKJSd9lwzwL47F</td>\n",
       "      <td>Fast Fast Vadiley</td>\n",
       "    </tr>\n",
       "    <tr>\n",
       "      <th>62316</th>\n",
       "      <td>5OYxwYeFfumMTAoAdVeet3</td>\n",
       "      <td>Moonu Moonu Moonu (From \"3:33\")</td>\n",
       "    </tr>\n",
       "  </tbody>\n",
       "</table>\n",
       "<p>62317 rows × 2 columns</p>\n",
       "</div>"
      ],
      "text/plain": [
       "                     track_id                                  track_name\n",
       "0      2r0ROhr7pRN4MXDMT1fEmd                  Leo Das Entry (From \"Leo\")\n",
       "1      4I38e6Dg52a2o2a8i5Q5PW                                AAO KILLELLE\n",
       "2      59NoiRhnom3lTeRFaBzOev      Mayakiriye Sirikiriye - Orchestral EDM\n",
       "3      5uUqRQd385pvLxC8JX3tXn    Scene Ah Scene Ah - Experimental EDM Mix\n",
       "4      1KaBRg2xgNeCljmyxBH1mo  Gundellonaa X I Am A Disco Dancer - Mashup\n",
       "...                       ...                                         ...\n",
       "62312  3eHDwMQYPEziy2DWRBNoLv                        Sani - G.O.A.T Remix\n",
       "62313  5hHtCqkNv5eo99OrEFFcgS                            Life of Bachelor\n",
       "62314  08foF9YHgKmIgOy3xMWRZy                                     Yo Baby\n",
       "62315  2wLFbVlQGKJSd9lwzwL47F                           Fast Fast Vadiley\n",
       "62316  5OYxwYeFfumMTAoAdVeet3             Moonu Moonu Moonu (From \"3:33\")\n",
       "\n",
       "[62317 rows x 2 columns]"
      ]
     },
     "execution_count": 41,
     "metadata": {},
     "output_type": "execute_result"
    }
   ],
   "source": [
    "df[['track_id','track_name']]"
   ]
  }
 ],
 "metadata": {
  "kernelspec": {
   "display_name": "Python [conda env:base] *",
   "language": "python",
   "name": "conda-base-py"
  },
  "language_info": {
   "codemirror_mode": {
    "name": "ipython",
    "version": 3
   },
   "file_extension": ".py",
   "mimetype": "text/x-python",
   "name": "python",
   "nbconvert_exporter": "python",
   "pygments_lexer": "ipython3",
   "version": "3.12.7"
  }
 },
 "nbformat": 4,
 "nbformat_minor": 5
}
