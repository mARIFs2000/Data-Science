{
 "cells": [
  {
   "cell_type": "code",
   "execution_count": 3,
   "id": "a8b89c0f-e703-498f-939f-9b2fd7648244",
   "metadata": {},
   "outputs": [
    {
     "name": "stdout",
     "output_type": "stream",
     "text": [
      "[1 2 1 0 0]\n"
     ]
    }
   ],
   "source": [
    "from sklearn.preprocessing import LabelEncoder\n",
    "data =['low','medium','low','high','high']\n",
    "le=LabelEncoder()\n",
    "encoded_data = le.fit_transform(data)\n",
    "print(encoded_data)"
   ]
  },
  {
   "cell_type": "code",
   "execution_count": 11,
   "id": "f9d4278b-1c50-43a3-b6ae-ae34b5b4a369",
   "metadata": {},
   "outputs": [
    {
     "name": "stdout",
     "output_type": "stream",
     "text": [
      "   color_green  color_red  color_yelow\n",
      "0        False       True        False\n",
      "1         True      False        False\n",
      "2        False      False         True\n",
      "3         True      False        False\n",
      "4        False      False         True\n",
      "5        False       True        False\n"
     ]
    }
   ],
   "source": [
    "import pandas as pd\n",
    "data = ['red','green','yelow','green','yelow','red']\n",
    "df = pd.DataFrame(data,columns=['color'])\n",
    "encodeddata= pd.get_dummies(df,columns=['color'])\n",
    "print(encodeddata)"
   ]
  },
  {
   "cell_type": "code",
   "execution_count": 19,
   "id": "85d05fc7-03ac-44f6-8ae9-beefd754ddb1",
   "metadata": {},
   "outputs": [
    {
     "name": "stdout",
     "output_type": "stream",
     "text": [
      "   color_red  color_white\n",
      "0      False        False\n",
      "1      False         True\n",
      "2       True        False\n",
      "3       True        False\n",
      "4      False        False\n",
      "5      False        False\n"
     ]
    }
   ],
   "source": [
    "import pandas as pd\n",
    "data = ['black','white','red','red','black','black']\n",
    "df = pd.DataFrame(data,columns=['color'])\n",
    "dummyencoded= pd.get_dummies(df,drop_first=True)\n",
    "print(dummyencoded)"
   ]
  }
 ],
 "metadata": {
  "kernelspec": {
   "display_name": "Python [conda env:base] *",
   "language": "python",
   "name": "conda-base-py"
  },
  "language_info": {
   "codemirror_mode": {
    "name": "ipython",
    "version": 3
   },
   "file_extension": ".py",
   "mimetype": "text/x-python",
   "name": "python",
   "nbconvert_exporter": "python",
   "pygments_lexer": "ipython3",
   "version": "3.12.7"
  }
 },
 "nbformat": 4,
 "nbformat_minor": 5
}
