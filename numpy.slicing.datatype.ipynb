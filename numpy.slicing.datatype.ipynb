{
 "cells": [
  {
   "cell_type": "code",
   "execution_count": 1,
   "id": "e5829312-b770-4726-a51d-19177022abee",
   "metadata": {},
   "outputs": [
    {
     "name": "stdout",
     "output_type": "stream",
     "text": [
      "[7 6 5 4 3]\n"
     ]
    }
   ],
   "source": [
    "import numpy as ak\n",
    "khan = ak.array([9,8,7,6,5,4,3,2,1])\n",
    "print(khan[2:7])"
   ]
  },
  {
   "cell_type": "code",
   "execution_count": 3,
   "id": "70e4ea85-07e7-464f-8cad-73442f06a904",
   "metadata": {},
   "outputs": [
    {
     "name": "stdout",
     "output_type": "stream",
     "text": [
      "[ 8 10 12 14 16]\n"
     ]
    }
   ],
   "source": [
    "import numpy as sk\n",
    "shahrukhan = sk.array([2,4,6,8,10,12,14,16])\n",
    "print(shahrukhan[3:])"
   ]
  },
  {
   "cell_type": "code",
   "execution_count": 7,
   "id": "e0bb0136-72a3-451e-8ee9-63b415dd1e6d",
   "metadata": {},
   "outputs": [
    {
     "name": "stdout",
     "output_type": "stream",
     "text": [
      "[ 2  4  6  8 10 12]\n"
     ]
    }
   ],
   "source": [
    "import numpy as sk\n",
    "shahrukhan = sk.array([2,4,6,8,10,12,14,16])\n",
    "print (shahrukhan[:6])"
   ]
  },
  {
   "cell_type": "code",
   "execution_count": 16,
   "id": "f623a800-13af-4f5b-9b7b-44212c0842f9",
   "metadata": {},
   "outputs": [
    {
     "name": "stdout",
     "output_type": "stream",
     "text": [
      "[ 7  9 11 13 15]\n"
     ]
    }
   ],
   "source": [
    "import numpy as sk\n",
    "salmankhan = sk.array([1,3,5,7,9,11,13,15])\n",
    "print (salmankhan[-5:])"
   ]
  },
  {
   "cell_type": "code",
   "execution_count": 18,
   "id": "3d75aa5d-4ea3-4018-af9a-dfc9ec73a122",
   "metadata": {},
   "outputs": [
    {
     "name": "stdout",
     "output_type": "stream",
     "text": [
      "int32\n"
     ]
    }
   ],
   "source": [
    "import numpy as ak\n",
    "aamirkhan = ak.array([1,2,3,4])\n",
    "print (aamirkhan.dtype)"
   ]
  },
  {
   "cell_type": "code",
   "execution_count": 20,
   "id": "84fe8465-ce46-42fb-a97e-4deeaca58090",
   "metadata": {},
   "outputs": [
    {
     "name": "stdout",
     "output_type": "stream",
     "text": [
      "<U11\n"
     ]
    }
   ],
   "source": [
    "import numpy as ak\n",
    "aamirkhan = ak.array(['ferrari','lamborghini','porsche'])\n",
    "print(aamirkhan.dtype)"
   ]
  },
  {
   "cell_type": "code",
   "execution_count": 17,
   "id": "36325a02-2750-4f12-97bf-45152dbae8d6",
   "metadata": {},
   "outputs": [
    {
     "name": "stdout",
     "output_type": "stream",
     "text": [
      "[4 2 3 6]\n",
      "int32\n"
     ]
    }
   ],
   "source": [
    "import numpy as ak\n",
    "aamirkhan = ak.array([4.1,2.1,3.1,6.1])\n",
    "khan = aamirkhan.astype('i')\n",
    "print (khan)\n",
    "print (khan.dtype)"
   ]
  },
  {
   "cell_type": "code",
   "execution_count": 1,
   "id": "e46cc313-d969-4728-8f1c-6a8644e95a2c",
   "metadata": {},
   "outputs": [
    {
     "name": "stdout",
     "output_type": "stream",
     "text": [
      "[ True  True False  True False  True]\n",
      "bool\n"
     ]
    }
   ],
   "source": [
    "import numpy as jg\n",
    "jijigomez = jg.array([1,2,0,4,0,6])\n",
    "gomez = jijigomez.astype(bool)\n",
    "print(gomez)\n",
    "print(gomez.dtype)"
   ]
  },
  {
   "cell_type": "code",
   "execution_count": null,
   "id": "16264fe7-499f-4dbe-89c9-f1e3793b0070",
   "metadata": {},
   "outputs": [],
   "source": []
  }
 ],
 "metadata": {
  "kernelspec": {
   "display_name": "Python [conda env:base] *",
   "language": "python",
   "name": "conda-base-py"
  },
  "language_info": {
   "codemirror_mode": {
    "name": "ipython",
    "version": 3
   },
   "file_extension": ".py",
   "mimetype": "text/x-python",
   "name": "python",
   "nbconvert_exporter": "python",
   "pygments_lexer": "ipython3",
   "version": "3.12.7"
  }
 },
 "nbformat": 4,
 "nbformat_minor": 5
}
