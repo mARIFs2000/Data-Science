{
 "cells": [
  {
   "cell_type": "code",
   "execution_count": 17,
   "id": "3a7d391d-3e9e-45da-bb7a-aa703b3c1e15",
   "metadata": {},
   "outputs": [
    {
     "data": {
      "text/plain": [
       "(2, 4)"
      ]
     },
     "execution_count": 17,
     "metadata": {},
     "output_type": "execute_result"
    }
   ],
   "source": [
    "#shape\n",
    "import numpy as gy\n",
    "guru = gy.array([[9,8,7,6],[5,4,3,2]])\n",
    "guru.shape"
   ]
  },
  {
   "cell_type": "code",
   "execution_count": 41,
   "id": "df0a5685-4835-42f9-ba66-026398af840a",
   "metadata": {},
   "outputs": [
    {
     "data": {
      "text/plain": [
       "(1, 1, 1, 1, 1, 5)"
      ]
     },
     "execution_count": 41,
     "metadata": {},
     "output_type": "execute_result"
    }
   ],
   "source": [
    "import numpy as np\n",
    "yougga = np.array([8,7,6,5,4], ndmin=6)\n",
    "yougga.shape"
   ]
  },
  {
   "cell_type": "code",
   "execution_count": 45,
   "id": "c6b10bf3-b154-4a05-92e3-53fc5208daaa",
   "metadata": {},
   "outputs": [
    {
     "data": {
      "text/plain": [
       "array([[[[[[8, 7, 6, 5, 4]]]]]])"
      ]
     },
     "execution_count": 45,
     "metadata": {},
     "output_type": "execute_result"
    }
   ],
   "source": [
    "yougga"
   ]
  },
  {
   "cell_type": "code",
   "execution_count": 79,
   "id": "41db249c-2b9a-4764-a340-6d01fa6d9860",
   "metadata": {},
   "outputs": [
    {
     "data": {
      "text/plain": [
       "array([[14, 13, 12, 11, 10,  9,  8],\n",
       "       [ 7,  6,  5,  4,  3,  2,  1]])"
      ]
     },
     "execution_count": 79,
     "metadata": {},
     "output_type": "execute_result"
    }
   ],
   "source": [
    "#reshape\n",
    "import numpy as np\n",
    "mandhara = np.array([14,13,12,11,10,9,8,7,6,5,4,3,2,1])\n",
    "cheppundo = mandhara.reshape(2,7)\n",
    "cheppundo"
   ]
  },
  {
   "cell_type": "code",
   "execution_count": 99,
   "id": "229b9d2f-09b6-4b77-8366-97a4f1fbe9e3",
   "metadata": {},
   "outputs": [
    {
     "data": {
      "text/plain": [
       "array([[[21, 22],\n",
       "        [23, 24]],\n",
       "\n",
       "       [[25, 26],\n",
       "        [27, 28]],\n",
       "\n",
       "       [[29, 30],\n",
       "        [31, 32]]])"
      ]
     },
     "execution_count": 99,
     "metadata": {},
     "output_type": "execute_result"
    }
   ],
   "source": [
    "import numpy as np\n",
    "manikya = np.array([21,22,23,24,25,26,27,28,29,30,31,32])\n",
    "kallundo = manikya.reshape(3,2,2)\n",
    "kallundo"
   ]
  },
  {
   "cell_type": "code",
   "execution_count": 115,
   "id": "534e3808-0100-4c83-a32f-6f64692e8f68",
   "metadata": {},
   "outputs": [
    {
     "data": {
      "text/plain": [
       "array([11, 12, 13, 14, 15, 16, 17, 18, 19])"
      ]
     },
     "execution_count": 115,
     "metadata": {},
     "output_type": "execute_result"
    }
   ],
   "source": [
    "import numpy as np\n",
    "kayyil = np.array([[[11,12,13],[14,15,16],[17,18,19]]])\n",
    "vaarmathiye = kayyil.reshape(-1)\n",
    "vaarmathiye"
   ]
  },
  {
   "cell_type": "code",
   "execution_count": null,
   "id": "d6c1ba99-c5a8-4012-92f1-c7b14bb67821",
   "metadata": {},
   "outputs": [],
   "source": []
  }
 ],
 "metadata": {
  "kernelspec": {
   "display_name": "Python [conda env:base] *",
   "language": "python",
   "name": "conda-base-py"
  },
  "language_info": {
   "codemirror_mode": {
    "name": "ipython",
    "version": 3
   },
   "file_extension": ".py",
   "mimetype": "text/x-python",
   "name": "python",
   "nbconvert_exporter": "python",
   "pygments_lexer": "ipython3",
   "version": "3.12.7"
  }
 },
 "nbformat": 4,
 "nbformat_minor": 5
}
